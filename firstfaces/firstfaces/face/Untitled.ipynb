{
 "cells": [
  {
   "cell_type": "code",
   "execution_count": 1,
   "metadata": {
    "collapsed": true
   },
   "outputs": [],
   "source": [
    "import requests\n",
    "from bs4 import BeautifulSoup"
   ]
  },
  {
   "cell_type": "markdown",
   "metadata": {},
   "source": [
    "## Necessary Strings"
   ]
  },
  {
   "cell_type": "code",
   "execution_count": 2,
   "metadata": {
    "collapsed": true
   },
   "outputs": [],
   "source": [
    "url = \"https://books.google.com/ngrams/graph?content={}&case_insensitive=on&year_start=1800&year_end=2000&corpus=15&smoothing=3\""
   ]
  },
  {
   "cell_type": "code",
   "execution_count": 3,
   "metadata": {
    "collapsed": true
   },
   "outputs": [],
   "source": [
    "request_agent = \"Mozilla/5.0 Chrome/47.0.2526.106 Safari/537.36\""
   ]
  },
  {
   "cell_type": "code",
   "execution_count": 4,
   "metadata": {
    "collapsed": true
   },
   "outputs": [],
   "source": [
    "def getSoup(url):\n",
    "    return BeautifulSoup(requests.get(url,headers={'User-Agent':request_agent}).text,'lxml')"
   ]
  },
  {
   "cell_type": "code",
   "execution_count": 12,
   "metadata": {
    "collapsed": true
   },
   "outputs": [],
   "source": [
    "def get_word_before(word,POS):\n",
    "    temp_url = url.format(\"*_\"+POS+\"+\"+word)\n",
    "    soup = getSoup(temp_url)\n",
    "    word_str = soup.find(\"textarea\",{\"id\":\"share_url_text\"}).text.split('direct_url')[1][1:]\n",
    "    ws = word_str.split(\"%20\")\n",
    "    first = ws[0].split('%3B%2C')[1].split('%2')[1].split(\"_\")[0].lower()\n",
    "    return first\n",
    "    "
   ]
  },
  {
   "cell_type": "code",
   "execution_count": 15,
   "metadata": {
    "collapsed": true
   },
   "outputs": [],
   "source": [
    "def get_word_after(word,POS):\n",
    "    temp_url = url.format(word+\"+*_\"+POS)\n",
    "    soup = getSoup(temp_url)\n",
    "    word_str = soup.find(\"textarea\",{\"id\":\"share_url_text\"}).text.split('direct_url')[1][1:]\n",
    "    ws = word_str.split(\"%20\")\n",
    "    first = ws[2:][0].split(\"_\")[0].lower()\n",
    "    return first"
   ]
  },
  {
   "cell_type": "code",
   "execution_count": 17,
   "metadata": {
    "collapsed": false
   },
   "outputs": [
    {
     "data": {
      "text/plain": [
       "'business'"
      ]
     },
     "execution_count": 17,
     "metadata": {},
     "output_type": "execute_result"
    }
   ],
   "source": [
    "get_word_after(\"big\",\"NOUN\")"
   ]
  },
  {
   "cell_type": "markdown",
   "metadata": {
    "collapsed": true
   },
   "source": [
    "# Create Color Maps"
   ]
  },
  {
   "cell_type": "code",
   "execution_count": 44,
   "metadata": {
    "collapsed": false
   },
   "outputs": [],
   "source": [
    "import numpy as np\n",
    "import matplotlib.pyplot as plt\n",
    "from matplotlib import cm\n",
    "from matplotlib.colors import ListedColormap, LinearSegmentedColormap\n",
    "import ast\n",
    "import subprocess\n",
    "#from pydub.playback import play\n",
    "#from pydub import AudioSegment\n",
    "from scipy.io import wavfile \n",
    "import numpy as np\n",
    "from PIL import Image\n",
    "#import cv2            \n",
    "import matplotlib\n",
    "#matplotlib.use('Agg')\n",
    "import matplotlib.pyplot as plt    \n",
    "import os\n",
    "import time"
   ]
  },
  {
   "cell_type": "code",
   "execution_count": 11,
   "metadata": {
    "collapsed": false
   },
   "outputs": [
    {
     "data": {
      "text/plain": [
       "False"
      ]
     },
     "execution_count": 11,
     "metadata": {},
     "output_type": "execute_result"
    }
   ],
   "source": [
    "viridis = cm.get_cmap('Greens')\n",
    "viridis."
   ]
  },
  {
   "cell_type": "code",
   "execution_count": 5,
   "metadata": {
    "collapsed": false
   },
   "outputs": [
    {
     "data": {
      "text/plain": [
       "[0.267004, 0.004874, 0.329415]"
      ]
     },
     "execution_count": 5,
     "metadata": {},
     "output_type": "execute_result"
    }
   ],
   "source": [
    "viridis.colors[0]"
   ]
  },
  {
   "cell_type": "code",
   "execution_count": 18,
   "metadata": {
    "collapsed": false
   },
   "outputs": [],
   "source": [
    "import numpy as np\n",
    "import matplotlib.pyplot as plt\n",
    "import matplotlib.colors as mcolors\n",
    "\n",
    "\n",
    "def make_colormap(seq):\n",
    "    \"\"\"Return a LinearSegmentedColormap\n",
    "    seq: a sequence of floats and RGB-tuples. The floats should be increasing\n",
    "    and in the interval (0,1).\n",
    "    \"\"\"\n",
    "    seq = [(None,) * 3, 0.0] + list(seq) + [1.0, (None,) * 3]\n",
    "    cdict = {'red': [], 'green': [], 'blue': []}\n",
    "    for i, item in enumerate(seq):\n",
    "        if isinstance(item, float):\n",
    "            r1, g1, b1 = seq[i - 1]\n",
    "            r2, g2, b2 = seq[i + 1]\n",
    "            cdict['red'].append([item, r1, r2])\n",
    "            cdict['green'].append([item, g1, g2])\n",
    "            cdict['blue'].append([item, b1, b2])\n",
    "    return mcolors.LinearSegmentedColormap('CustomMap', cdict)\n",
    "\n",
    "\n",
    "c = mcolors.ColorConverter().to_rgb\n",
    "rvb = make_colormap(\n",
    "    [c('#E5F7E5'), c('#B2E8B2'), 0.33, c('#B2E8B2'), c('#00B300'), 0.66, c('#00B300')])\n"
   ]
  },
  {
   "cell_type": "code",
   "execution_count": 106,
   "metadata": {
    "collapsed": true
   },
   "outputs": [],
   "source": [
    "def get_spectogram_portion(wav_path,idx,filename,width,pho,c):   \n",
    "    samplingFrequency, signalData = wavfile.read(wav_path) \n",
    "    # print(pho)                                           \n",
    "    temp = []                                                                                         \n",
    "    for i in range(len(signalData)):                                                                  \n",
    "        if signalData[i] == 0:                                                                        \n",
    "            continue                                                                                  \n",
    "        else:                                                                                         \n",
    "            temp.append(signalData[i])                                                                \n",
    "    height = 3                                                                                                                                                                      \n",
    "    fig = plt.figure(num=None, figsize=(width,height), dpi=80, facecolor='w', edgecolor='k')             \n",
    "    ax = plt.subplot(111)                                                                             \n",
    "    ax.specgram(temp,Fs=samplingFrequency,cmap=c)                                         \n",
    "    ax.axis('off')                                                                                    \n",
    "    plt.subplots_adjust(left=0, bottom=0, right=1, top=1, wspace=0, hspace=0)                         \n",
    "    #fig.tight_layout()                                                                                \n",
    "    out = filename    \n",
    "    plt.show()\n",
    "    #plt.savefig(out, transparent= True, bbox_inches = 'tight', pad_inches = 0)  \n",
    "    return out  "
   ]
  },
  {
   "cell_type": "code",
   "execution_count": 115,
   "metadata": {
    "collapsed": true
   },
   "outputs": [],
   "source": [
    "g1 = make_colormap(\n",
    "    [c('#e4f7d8'), c('#7cd93d'), 0.4, c('#7cd93d'), c('#3F751B'), 0.85, c('#3F751B')])"
   ]
  },
  {
   "cell_type": "code",
   "execution_count": 116,
   "metadata": {
    "collapsed": false
   },
   "outputs": [],
   "source": [
    "g2 = make_colormap([c('#e4f7dc'), c('#78db52'), 0.4, c('#78db52'), c('#3f751b'), 0.85, c('#3f751b')])"
   ]
  },
  {
   "cell_type": "code",
   "execution_count": 117,
   "metadata": {
    "collapsed": true
   },
   "outputs": [],
   "source": [
    "g3 = make_colormap([c('#eaf9da'), c('#9ae447'), 0.4, c('#9ae447'), c('#3f751b'), 0.85, c('#3f751b')])"
   ]
  },
  {
   "cell_type": "code",
   "execution_count": 118,
   "metadata": {
    "collapsed": true
   },
   "outputs": [],
   "source": [
    "g4 = make_colormap([c('#e0f4d2'), c('#90c858'), 0.4, c('#90c858'), c('#3f751b'), 0.85, c('#3f751b')])"
   ]
  },
  {
   "cell_type": "code",
   "execution_count": 119,
   "metadata": {
    "collapsed": true
   },
   "outputs": [],
   "source": [
    "g5 = make_colormap(\n",
    "    [c('#e4f3db'), c('#7ac54c'), 0.4, c('#7ac54c'), c('#3f751b'), 0.85, c('#3f751b')])"
   ]
  },
  {
   "cell_type": "code",
   "execution_count": 120,
   "metadata": {
    "collapsed": true
   },
   "outputs": [],
   "source": [
    "g6 = make_colormap([c('#e6f9df'), c('#82e35f'), 0.4, c('#82e35f'), c('#3f751b'), 0.85, c('#3f751b')])"
   ]
  },
  {
   "cell_type": "code",
   "execution_count": 121,
   "metadata": {
    "collapsed": true
   },
   "outputs": [],
   "source": [
    "g7 = make_colormap([c('#ebfbd9'), c('#9ceb43'), 0.4, c('#9ceb43'), c('#3f751b'), 0.85, c('#3f751b')])"
   ]
  },
  {
   "cell_type": "code",
   "execution_count": 122,
   "metadata": {
    "collapsed": true
   },
   "outputs": [],
   "source": [
    "g8 = make_colormap(\n",
    "    [c('#e7f7dc'), c('#89D751'), 0.4, c('#89D751'), c('#3f751b'), 0.85, c('#3f751b')])"
   ]
  },
  {
   "cell_type": "code",
   "execution_count": 124,
   "metadata": {
    "collapsed": false
   },
   "outputs": [
    {
     "name": "stdout",
     "output_type": "stream",
     "text": [
      "<matplotlib.colors.LinearSegmentedColormap object at 0x7fd7ef2def28>\n"
     ]
    }
   ],
   "source": [
    "print(g1)print(g1)"
   ]
  },
  {
   "cell_type": "code",
   "execution_count": 123,
   "metadata": {
    "collapsed": false,
    "scrolled": false
   },
   "outputs": [
    {
     "data": {
      "image/png": "[encoded data removed]",
      "text/plain": [
       "<matplotlib.figure.Figure at 0x7fd8092f1240>"
      ]
     },
     "metadata": {},
     "output_type": "display_data"
    },
    {
     "data": {
      "image/png": "[encoded data removed]",
      "text/plain": [
       "<matplotlib.figure.Figure at 0x7fd8092f1e48>"
      ]
     },
     "metadata": {},
     "output_type": "display_data"
    },
    {
     "data": {
      "image/png": "[encoded data removed]",
      "text/plain": [
       "<matplotlib.figure.Figure at 0x7fd7ef2e12e8>"
      ]
     },
     "metadata": {},
     "output_type": "display_data"
    },
    {
     "data": {
      "image/png": "[encoded data removed]",
      "text/plain": [
       "<matplotlib.figure.Figure at 0x7fd7ef278f98>"
      ]
     },
     "metadata": {},
     "output_type": "display_data"
    },
    {
     "data": {
      "image/png": "[encoded data removed]",
      "text/plain": [
       "<matplotlib.figure.Figure at 0x7fd8091ed470>"
      ]
     },
     "metadata": {},
     "output_type": "display_data"
    },
    {
     "data": {
      "image/png": "[encoded data removed]",
      "text/plain": [
       "<matplotlib.figure.Figure at 0x7fd8092d8dd8>"
      ]
     },
     "metadata": {},
     "output_type": "display_data"
    },
    {
     "data": {
      "image/png": "[encoded data removed]",
      "text/plain": [
       "<matplotlib.figure.Figure at 0x7fd7ef26e0f0>"
      ]
     },
     "metadata": {},
     "output_type": "display_data"
    },
    {
     "data": {
      "image/png": "[encoded data removed]",
      "text/plain": [
       "<matplotlib.figure.Figure at 0x7fd80909cba8>"
      ]
     },
     "metadata": {},
     "output_type": "display_data"
    },
    {
     "data": {
      "text/plain": [
       "''"
      ]
     },
     "execution_count": 123,
     "metadata": {},
     "output_type": "execute_result"
    }
   ],
   "source": [
    "get_spectogram_portion('gentle-master/eh_B.wav',\"\",\"\",3.25,\"a\",g1)\n",
    "get_spectogram_portion('gentle-master/eh_B.wav',\"\",\"\",3.25,\"a\",g2)\n",
    "get_spectogram_portion('gentle-master/eh_B.wav',\"\",\"\",3.25,\"a\",g3)\n",
    "get_spectogram_portion('gentle-master/eh_B.wav',\"\",\"\",3.25,\"a\",g4)\n",
    "get_spectogram_portion('gentle-master/eh_B.wav',\"\",\"\",3.25,\"a\",g5)\n",
    "get_spectogram_portion('gentle-master/eh_B.wav',\"\",\"\",3.25,\"a\",g6)\n",
    "get_spectogram_portion('gentle-master/eh_B.wav',\"\",\"\",3.25,\"a\",g7)\n",
    "get_spectogram_portion('gentle-master/eh_B.wav',\"\",\"\",3.25,\"a\",g8)"
   ]
  },
  {
   "cell_type": "code",
   "execution_count": 91,
   "metadata": {
    "collapsed": false
   },
   "outputs": [
    {
     "data": {
      "image/png": "[encoded data removed]",
      "text/plain": [
       "<matplotlib.figure.Figure at 0x7fd7ef30c160>"
      ]
     },
     "metadata": {},
     "output_type": "display_data"
    },
    {
     "data": {
      "text/plain": [
       "''"
      ]
     },
     "execution_count": 91,
     "metadata": {},
     "output_type": "execute_result"
    }
   ],
   "source": [
    "get_spectogram_portion('gentle-master/eh_B.wav',\"\",\"\",3.25,\"a\",g3)"
   ]
  },
  {
   "cell_type": "code",
   "execution_count": 110,
   "metadata": {
    "collapsed": false
   },
   "outputs": [
    {
     "data": {
      "image/png": "[encoded data removed]",
      "text/plain": [
       "<matplotlib.figure.Figure at 0x7fd8376e4b70>"
      ]
     },
     "metadata": {},
     "output_type": "display_data"
    },
    {
     "data": {
      "text/plain": [
       "''"
      ]
     },
     "execution_count": 110,
     "metadata": {},
     "output_type": "execute_result"
    }
   ],
   "source": [
    "get_spectogram_portion('gentle-master/eh_B.wav',\"\",\"\",3.25,\"a\",g1)"
   ]
  },
  {
   "cell_type": "code",
   "execution_count": null,
   "metadata": {
    "collapsed": true
   },
   "outputs": [],
   "source": []
  }
 ],
 "metadata": {
  "kernelspec": {
   "display_name": "Python 3",
   "language": "python",
   "name": "python3"
  },
  "language_info": {
   "codemirror_mode": {
    "name": "ipython",
    "version": 3
   },
   "file_extension": ".py",
   "mimetype": "text/x-python",
   "name": "python",
   "nbconvert_exporter": "python",
   "pygments_lexer": "ipython3",
   "version": "3.6.0"
  }
 },
 "nbformat": 4,
 "nbformat_minor": 2
}
